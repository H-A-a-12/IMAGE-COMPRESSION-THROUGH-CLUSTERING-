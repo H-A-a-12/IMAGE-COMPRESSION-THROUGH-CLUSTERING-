{
 "cells": [
  {
   "cell_type": "markdown",
   "metadata": {},
   "source": [
    "KMEANS ALGORITHM"
   ]
  },
  {
   "cell_type": "code",
   "execution_count": 1,
   "metadata": {},
   "outputs": [
    {
     "name": "stderr",
     "output_type": "stream",
     "text": [
      "c:\\users\\lenovo\\appdata\\local\\programs\\python\\python36\\lib\\site-packages\\sklearn\\utils\\deprecation.py:143: FutureWarning: The sklearn.datasets.samples_generator module is  deprecated in version 0.22 and will be removed in version 0.24. The corresponding classes / functions should instead be imported from sklearn.datasets. Anything that cannot be imported from sklearn.datasets is now part of the private API.\n",
      "  warnings.warn(message, FutureWarning)\n"
     ]
    }
   ],
   "source": [
    "from sklearn.datasets.samples_generator import make_blobs\n",
    "import matplotlib.pyplot as plt "
   ]
  },
  {
   "cell_type": "code",
   "execution_count": 2,
   "metadata": {},
   "outputs": [],
   "source": [
    "x,y=make_blobs(n_samples=300,centers=6,cluster_std=0.80,random_state=0)"
   ]
  },
  {
   "cell_type": "code",
   "execution_count": 3,
   "metadata": {},
   "outputs": [
    {
     "data": {
      "text/plain": [
       "<matplotlib.collections.PathCollection at 0x1e5135450f0>"
      ]
     },
     "execution_count": 3,
     "metadata": {},
     "output_type": "execute_result"
    },
    {
     "data": {
      "image/png": "[encoded data removed]",
      "text/plain": [
       "<Figure size 432x288 with 1 Axes>"
      ]
     },
     "metadata": {
      "needs_background": "light"
     },
     "output_type": "display_data"
    }
   ],
   "source": [
    "plt.scatter(x[:,0],x[:,1],s=50)"
   ]
  },
  {
   "cell_type": "code",
   "execution_count": 4,
   "metadata": {},
   "outputs": [
    {
     "name": "stdout",
     "output_type": "stream",
     "text": [
      "[[-1.44872404  3.38424521]\n",
      " [ 6.0619245   1.97203342]\n",
      " [10.65943216 -1.78356874]\n",
      " [10.32856471 -3.03710468]\n",
      " [ 1.70714468  2.37707464]\n",
      " [-1.63386526  3.78007731]\n",
      " [11.43023445 -2.39030936]\n",
      " [ 1.29814339  3.75593925]\n",
      " [-2.28246102  2.58984251]\n",
      " [ 8.44930698 -2.61112432]\n",
      " [ 4.81074942  0.10955343]\n",
      " [ 5.6408849   1.79250733]\n",
      " [ 1.22672424  3.62051074]\n",
      " [-1.77009065  7.41850857]\n",
      " [-1.40169878  3.10362709]\n",
      " [ 0.04415021  5.02444852]\n",
      " [ 0.69794036  4.4288665 ]\n",
      " [ 4.59415729  0.91175345]\n",
      " [ 1.07491911  1.57315404]\n",
      " [-0.78543858  8.11518358]\n",
      " [ 4.27305748  0.04998501]\n",
      " [-0.1566303   7.28390067]\n",
      " [ 1.2613632   4.86904586]\n",
      " [ 7.44235918 -2.12998209]\n",
      " [-0.57495076  7.63589315]\n",
      " [ 2.79207378  3.14029479]\n",
      " [-3.15145159  4.56947655]\n",
      " [ 3.78585628  1.96688602]\n",
      " [-1.72717892  6.94274243]\n",
      " [-1.48172566  7.22626625]\n",
      " [-1.18589703  3.45940869]\n",
      " [ 6.77960364  0.07237539]\n",
      " [-1.06612177  4.8266822 ]\n",
      " [ 5.18999956 -0.31675114]\n",
      " [ 2.51654017  0.73102466]\n",
      " [ 9.89037997 -1.50761856]\n",
      " [ 1.41253979  0.34602384]\n",
      " [ 9.57944115 -2.35856345]\n",
      " [-1.55615962  7.91094129]\n",
      " [ 2.47388885  0.76042659]\n",
      " [ 1.02948386  4.54576485]\n",
      " [-1.4624426   6.93305095]\n",
      " [-0.02596621  4.92577961]\n",
      " [ 2.35640795  0.01814303]\n",
      " [ 5.92661906  0.27458034]\n",
      " [ 4.04281751  0.89909764]\n",
      " [ 5.45847446  0.40451322]\n",
      " [-2.00395524  2.87582842]\n",
      " [-1.29782906  3.40495733]\n",
      " [-1.84646324  3.21392697]\n",
      " [ 9.43269537 -2.37165246]\n",
      " [-2.40548353  8.47569838]\n",
      " [-1.63566377  3.82739535]\n",
      " [-2.60674043  8.1452844 ]\n",
      " [ 6.30640462  0.28681135]\n",
      " [-0.33131638  1.26189424]\n",
      " [-1.53100117  6.54228066]\n",
      " [-0.97367301  3.47368158]\n",
      " [ 6.19752629 -0.88589393]\n",
      " [-2.14971642  7.25091781]\n",
      " [ 5.62518441  0.43210257]\n",
      " [ 1.45946366  0.23651283]\n",
      " [ 2.37207289  0.02321445]\n",
      " [-0.68949006  7.83847673]\n",
      " [10.02769208 -4.52291136]\n",
      " [ 6.6970586  -1.46944934]\n",
      " [ 9.16916965 -2.25600704]\n",
      " [ 6.11830692  1.07140764]\n",
      " [-0.59663992  7.88260049]\n",
      " [-2.08054389  4.1469839 ]\n",
      " [-1.10779119  2.98861993]\n",
      " [-1.82393929  7.18506562]\n",
      " [ 0.86226145  1.24917702]\n",
      " [-3.37559357  8.32051564]\n",
      " [ 5.84140308  0.99950176]\n",
      " [ 9.97392142 -2.4232556 ]\n",
      " [ 2.79195458  1.15264578]\n",
      " [ 8.89977877 -3.46469451]\n",
      " [-0.62965339  6.8883555 ]\n",
      " [ 1.07779975  4.62537882]\n",
      " [ 5.30645571  0.71855356]\n",
      " [10.48391768 -1.88866397]\n",
      " [-2.10738192  1.8111911 ]\n",
      " [ 0.32575305  2.92276125]\n",
      " [ 5.65641622 -0.15256498]\n",
      " [ 5.86410534  1.19222032]\n",
      " [-0.7336042   6.57896129]\n",
      " [ 1.9765055   0.36688103]\n",
      " [ 4.48952619 -0.13327869]\n",
      " [ 2.00067424  2.26833784]\n",
      " [ 1.02098199  1.11130436]\n",
      " [ 3.93883124  1.26914024]\n",
      " [ 6.0052848  -0.38896053]\n",
      " [ 2.95657626  0.03371845]\n",
      " [ 1.5403728  -0.88105886]\n",
      " [ 6.58389473  1.70776056]\n",
      " [ 5.96564362  0.65495548]\n",
      " [ 5.25126503  0.73514432]\n",
      " [ 5.52058956 -1.85901605]\n",
      " [ 2.03580662  0.30723893]\n",
      " [ 1.66781904  3.71005531]\n",
      " [ 8.32992887 -1.29002717]\n",
      " [ 3.94316171  0.59416574]\n",
      " [ 2.5146237   5.48819916]\n",
      " [-2.02937406  2.53306057]\n",
      " [-1.96119319  3.2507223 ]\n",
      " [ 1.17176085  0.93939572]\n",
      " [-1.28199294  7.60595026]\n",
      " [-1.20766694  0.69980806]\n",
      " [-0.04011792  5.07930469]\n",
      " [-1.79546449  9.16310065]\n",
      " [ 2.2792072   0.81914335]\n",
      " [ 2.29385806  1.95877238]\n",
      " [-0.50277708  8.107432  ]\n",
      " [ 2.48279064  3.22558008]\n",
      " [-1.85957091  6.68522684]\n",
      " [ 9.56991521 -2.21752018]\n",
      " [ 1.77207239 -0.20229737]\n",
      " [ 1.75992205  0.70616032]\n",
      " [ 2.56737274 -0.39590118]\n",
      " [ 0.03777135  5.85868428]\n",
      " [ 9.98946343 -1.23119837]\n",
      " [-1.2975569   7.74961579]\n",
      " [ 2.02384127 -0.03681114]\n",
      " [ 2.8130691   0.77365559]\n",
      " [10.17613046 -1.93436887]\n",
      " [-0.97188549  2.79022351]\n",
      " [-2.66308654  8.11984545]\n",
      " [-0.65050511  6.88430405]\n",
      " [-0.99379755  2.54930643]\n",
      " [-3.07592786  3.06890514]\n",
      " [-2.29166001  2.64109684]\n",
      " [-1.77411439  1.57707922]\n",
      " [ 0.07025217  7.96684222]\n",
      " [-2.00475687  2.72754488]\n",
      " [ 9.02596365 -2.51794295]\n",
      " [ 8.64715189 -2.41948106]\n",
      " [ 8.81780557 -2.11524614]\n",
      " [-2.03666436  6.65799201]\n",
      " [-0.97504948  3.95935924]\n",
      " [ 1.46361712  2.13207534]\n",
      " [ 5.29208014  1.61617503]\n",
      " [ 8.5048517  -2.96566351]\n",
      " [-2.65296824  8.19620759]\n",
      " [ 6.23345298  1.41627612]\n",
      " [-0.3278886   4.67401313]\n",
      " [ 5.99055652 -0.84735189]\n",
      " [ 5.74610924 -0.75066145]\n",
      " [ 8.49637155 -2.07931586]\n",
      " [ 1.91929374  4.15984746]\n",
      " [ 8.85923998 -3.11423351]\n",
      " [ 0.11966798  5.14734871]\n",
      " [-1.63198043  8.33174665]\n",
      " [ 9.91370705 -2.26856148]\n",
      " [ 0.56762597  3.35928158]\n",
      " [ 5.67218329  0.48999217]\n",
      " [ 9.05271878 -2.898952  ]\n",
      " [-1.41377872  8.53960315]\n",
      " [ 0.4688124   4.01359439]\n",
      " [ 7.44350611  0.54222205]\n",
      " [ 0.25989683  4.61330933]\n",
      " [-1.41334148  2.66241953]\n",
      " [ 8.99529469 -2.7961844 ]\n",
      " [ 4.70973043  0.10585228]\n",
      " [10.0168593  -1.86538995]\n",
      " [ 0.03782583  3.22995692]\n",
      " [ 0.9846701   5.73248372]\n",
      " [10.4892511  -0.95549818]\n",
      " [-0.3148482   4.1335951 ]\n",
      " [-0.38874607  5.86440764]\n",
      " [-2.36310671  3.88679849]\n",
      " [ 2.54653102  1.635429  ]\n",
      " [-1.20865979  8.23052944]\n",
      " [ 9.63918769 -3.10285923]\n",
      " [ 0.64537489  3.70582348]\n",
      " [ 1.69084152  0.91164699]\n",
      " [ 2.18860632  1.40568881]\n",
      " [ 0.25043139  4.34534364]\n",
      " [ 5.66094111  0.934213  ]\n",
      " [-2.75954162  2.96849186]\n",
      " [ 0.26604148  2.71915015]\n",
      " [10.66435335 -1.53565411]\n",
      " [-0.0749928   8.51750157]\n",
      " [ 0.31622934  2.0698696 ]\n",
      " [-1.63320848  2.67964956]\n",
      " [ 1.11821099  3.98236258]\n",
      " [-1.40077857  7.5195804 ]\n",
      " [ 1.25509524 -0.33815322]\n",
      " [ 0.65372852  5.28174338]\n",
      " [-1.812016    8.5900686 ]\n",
      " [ 9.96333202 -4.4556649 ]\n",
      " [ 3.96178334  1.65324725]\n",
      " [ 2.17153334  4.13966072]\n",
      " [ 1.33136066  4.57072679]\n",
      " [ 0.66640862  4.06194513]\n",
      " [-2.79325473  3.40618576]\n",
      " [ 6.26915027  0.92913276]\n",
      " [-0.56191664  8.74834151]\n",
      " [ 0.56854833  3.95332789]\n",
      " [ 6.11592485  0.88128682]\n",
      " [ 0.43830172  4.0161448 ]\n",
      " [ 2.59310333  1.22363313]\n",
      " [-0.79442355  7.65731994]\n",
      " [-1.37438939  9.64083881]\n",
      " [ 9.2045106  -2.17573527]\n",
      " [ 1.65684156  2.4412893 ]\n",
      " [-1.54001061  7.9608231 ]\n",
      " [ 0.9537243   4.64645282]\n",
      " [ 1.49961323  0.77795603]\n",
      " [ 8.95707202 -3.25870604]\n",
      " [-2.17759542  1.7447428 ]\n",
      " [ 8.42955244 -1.67497135]\n",
      " [ 0.72702805  4.3487196 ]\n",
      " [ 5.07900597  0.76838091]\n",
      " [-1.02864269  7.12272795]\n",
      " [ 9.64375947 -2.10789301]\n",
      " [ 1.32500974  1.79127669]\n",
      " [ 5.39105306  0.20138827]\n",
      " [ 1.51580139  0.92312811]\n",
      " [-1.02390241  7.04096113]\n",
      " [ 1.55954253  4.40697366]\n",
      " [ 0.13742771  3.16777298]\n",
      " [ 8.45882171 -2.39345343]\n",
      " [-2.72271141  7.45308081]\n",
      " [-1.60099388  7.61117562]\n",
      " [-2.59431079  1.84050826]\n",
      " [-2.03685363  2.60006481]\n",
      " [ 1.88779063  3.31592667]\n",
      " [ 4.76873144 -0.99700136]\n",
      " [-1.54052034  3.22120365]\n",
      " [ 2.78341065  1.15143823]\n",
      " [-0.39344826  7.47275137]\n",
      " [-2.47799142  2.51242918]\n",
      " [-1.39629871  7.18934123]\n",
      " [ 1.96050262  5.26569121]\n",
      " [ 8.74641284 -2.7425568 ]\n",
      " [ 8.92190359 -2.18609888]\n",
      " [ 1.36628697  2.42571562]\n",
      " [ 1.10022802  4.60631734]\n",
      " [ 6.02819513 -0.13307781]\n",
      " [ 2.47031725  5.02862305]\n",
      " [-1.77561295  2.99580239]\n",
      " [-1.26080146  7.96420255]\n",
      " [ 1.34880003  3.07479238]\n",
      " [ 9.23669204 -2.1547635 ]\n",
      " [-0.60503876  3.78157713]\n",
      " [ 8.89816386 -4.09232265]\n",
      " [ 6.81439721  0.62978328]\n",
      " [ 9.968426   -2.1096721 ]\n",
      " [ 2.74073201  0.37684319]\n",
      " [ 2.16687183  5.82049867]\n",
      " [-1.89778079  3.30306744]\n",
      " [ 5.65886794 -0.2893309 ]\n",
      " [ 4.4406158  -0.46469581]\n",
      " [ 7.66012991 -2.76273333]\n",
      " [ 5.72965755  1.4843623 ]\n",
      " [-3.05270716  7.01745454]\n",
      " [ 1.00254159  0.52839598]\n",
      " [ 0.28054315  2.88407654]\n",
      " [ 1.54659066  1.4388103 ]\n",
      " [-1.79852586  6.86419809]\n",
      " [ 7.59757275 -2.23219209]\n",
      " [ 2.67269996  1.55646698]\n",
      " [-2.66615274  2.52322635]\n",
      " [ 6.58847526  0.3638226 ]\n",
      " [ 1.58510026  4.40112734]\n",
      " [ 1.14289006  5.08509856]\n",
      " [ 9.54437851 -0.71433477]\n",
      " [ 2.81480417  0.96770465]\n",
      " [ 8.54624461 -2.67062372]\n",
      " [ 9.93052378 -2.32693551]\n",
      " [ 1.01287689  4.15404025]\n",
      " [ 7.96714759 -3.5853838 ]\n",
      " [ 1.43933466  1.32906301]\n",
      " [-2.57212549  4.24438681]\n",
      " [-2.45184996  3.54284074]\n",
      " [-1.21735133  6.51008793]\n",
      " [-2.17413998  7.58562621]\n",
      " [ 2.20249345  5.47927434]\n",
      " [ 2.9349952   1.42187464]\n",
      " [ 2.55545268 -0.38398246]\n",
      " [ 3.00569136  1.15121775]\n",
      " [ 1.84086482  1.53962878]\n",
      " [ 5.09037556  0.43502712]\n",
      " [10.15033269 -2.51854226]\n",
      " [-1.11005211  2.45725189]\n",
      " [ 1.22787325  1.44293927]\n",
      " [ 0.27963236  3.8407076 ]\n",
      " [-1.61533654  3.73402043]\n",
      " [-0.89784164  2.54474698]\n",
      " [-1.13191059  2.82499911]\n",
      " [ 8.87100185 -0.40120668]\n",
      " [-0.63492523  8.12049427]\n",
      " [ 4.9226588   1.20586441]\n",
      " [ 1.1372926   0.54740762]\n",
      " [-2.04883088  2.60511956]\n",
      " [-1.62143525  2.3737397 ]\n",
      " [ 5.52678442  0.22282952]\n",
      " [ 4.75616042 -0.03136032]\n",
      " [10.15348268 -1.29275205]]\n"
     ]
    }
   ],
   "source": [
    "print(x)"
   ]
  },
  {
   "cell_type": "code",
   "execution_count": 5,
   "metadata": {},
   "outputs": [
    {
     "name": "stdout",
     "output_type": "stream",
     "text": [
      "[2 5 4 4 1 2 4 0 2 4 5 5 0 3 2 0 0 5 1 3 5 3 0 4 3 0 2 1 3 3 2 5 0 5 1 4 1\n",
      " 4 3 1 0 3 0 1 5 5 5 2 2 2 4 3 2 3 5 2 3 2 5 3 5 1 1 3 4 5 4 5 3 2 2 3 1 3\n",
      " 5 4 1 4 3 0 5 4 2 0 5 5 3 1 5 1 1 5 5 1 1 5 5 5 5 1 0 4 5 0 2 2 1 3 2 0 3\n",
      " 1 1 3 0 3 4 1 1 1 0 4 3 1 1 4 2 3 3 2 2 2 2 3 2 4 4 4 3 2 1 5 4 3 5 0 5 5\n",
      " 4 0 4 0 3 4 0 5 4 3 0 5 0 2 4 5 4 2 0 4 0 0 2 1 3 4 0 1 1 0 5 2 0 4 3 2 2\n",
      " 0 3 1 0 3 4 1 0 0 0 2 5 3 0 5 0 1 3 3 4 1 3 0 1 4 2 4 0 5 3 4 1 5 1 3 0 0\n",
      " 4 3 3 2 2 0 5 2 1 3 2 3 0 4 4 1 0 5 0 2 3 0 4 2 4 5 4 1 0 2 5 5 4 5 3 1 2\n",
      " 1 3 4 1 2 5 0 0 4 1 4 4 0 4 1 2 2 3 3 0 1 1 1 1 5 4 2 1 0 2 2 2 4 3 5 1 2\n",
      " 2 5 5 4]\n"
     ]
    }
   ],
   "source": [
    "print(y)"
   ]
  },
  {
   "cell_type": "code",
   "execution_count": 6,
   "metadata": {},
   "outputs": [],
   "source": [
    "#applying Kmeans \n",
    "\n",
    "from sklearn.cluster import KMeans"
   ]
  },
  {
   "cell_type": "code",
   "execution_count": 7,
   "metadata": {},
   "outputs": [
    {
     "name": "stdout",
     "output_type": "stream",
     "text": [
      "[0 5 8 8 6 0 8 4 0 1 5 5 4 3 0 9 9 5 6 7 5 7 4 1 7 4 0 2 3 3 0 5 9 5 2 8 6\n",
      " 8 7 2 4 3 9 2 5 2 5 0 0 0 8 3 0 3 5 6 3 0 5 3 5 6 2 7 8 1 1 5 7 0 0 3 6 3\n",
      " 5 8 2 1 7 4 5 8 0 9 5 5 7 2 5 6 6 2 5 2 2 5 5 5 5 2 4 1 2 4 0 0 6 7 0 9 7\n",
      " 2 6 7 4 3 8 2 6 2 9 8 7 2 2 8 0 3 7 0 0 0 0 7 0 1 1 1 3 9 6 5 1 3 5 9 5 5\n",
      " 1 4 1 9 7 8 9 5 1 7 9 5 9 0 1 5 8 9 4 8 9 9 0 2 7 8 9 6 6 9 5 0 9 8 7 6 0\n",
      " 4 7 6 9 7 8 2 4 4 9 0 5 7 9 5 9 2 7 7 8 6 7 4 6 1 0 1 9 5 7 8 6 5 6 7 4 9\n",
      " 1 3 3 0 0 4 5 0 2 7 0 3 4 1 1 6 4 5 4 0 7 4 8 9 1 5 8 2 4 0 5 5 1 5 3 6 9\n",
      " 6 3 1 2 0 5 4 4 8 2 1 8 4 1 6 0 0 3 3 4 2 2 2 6 5 8 0 6 9 0 0 0 8 7 5 6 0\n",
      " 0 5 5 8]\n"
     ]
    }
   ],
   "source": [
    "km=KMeans(n_clusters=6)\n",
    "km.fit(x)\n",
    "predict=km.predict(x)\n",
    "print(predict)"
   ]
  },
  {
   "cell_type": "code",
   "execution_count": 8,
   "metadata": {},
   "outputs": [
    {
     "data": {
      "text/plain": [
       "<matplotlib.collections.PathCollection at 0x1e518b2da20>"
      ]
     },
     "execution_count": 8,
     "metadata": {},
     "output_type": "execute_result"
    },
    {
     "data": {
      "image/png": "[encoded data removed]",
      "text/plain": [
       "<Figure size 432x288 with 1 Axes>"
      ]
     },
     "metadata": {
      "needs_background": "light"
     },
     "output_type": "display_data"
    }
   ],
   "source": [
    "plt.scatter(x[:,0],x[:,1],c=predict,cmap='winter')\n",
    "centers=km.cluster_centers_\n",
    "plt.scatter(centers[:,0],centers[:,1],c='black',s=300,alpha=0.5)\n"
   ]
  },
  {
   "cell_type": "markdown",
   "metadata": {},
   "source": [
    "IMAGE COMPRESSION "
   ]
  },
  {
   "cell_type": "code",
   "execution_count": 9,
   "metadata": {},
   "outputs": [],
   "source": [
    "from sklearn.cluster import KMeans\n",
    "import numpy as np\n",
    "from PIL import Image\n",
    "import matplotlib.pyplot as plt\n",
    "import matplotlib.image as mping"
   ]
  },
  {
   "cell_type": "code",
   "execution_count": 25,
   "metadata": {},
   "outputs": [],
   "source": [
    "img=Image.open(r'D:\\jupyter\\ducat\\K-means\\test.png')"
   ]
  },
  {
   "cell_type": "code",
   "execution_count": 26,
   "metadata": {},
   "outputs": [
    {
     "name": "stdout",
     "output_type": "stream",
     "text": [
      "<PIL.PngImagePlugin.PngImageFile image mode=RGBA size=824x786 at 0x1E518C6AD30>\n"
     ]
    },
    {
     "data": {
      "text/plain": [
       "<matplotlib.image.AxesImage at 0x1e518de47f0>"
      ]
     },
     "execution_count": 26,
     "metadata": {},
     "output_type": "execute_result"
    },
    {
     "data": {
      "image/png": "[encoded data removed]",
      "text/plain": [
       "<Figure size 432x288 with 1 Axes>"
      ]
     },
     "metadata": {
      "needs_background": "light"
     },
     "output_type": "display_data"
    }
   ],
   "source": [
    "print(img)\n",
    "plt.imshow(img)"
   ]
  },
  {
   "cell_type": "code",
   "execution_count": 27,
   "metadata": {},
   "outputs": [
    {
     "name": "stdout",
     "output_type": "stream",
     "text": [
      "[[[255 255 255 255]\n",
      "  [255 255 255 255]\n",
      "  [255 255 255 255]\n",
      "  ...\n",
      "  [255 255 255 255]\n",
      "  [255 255 255 255]\n",
      "  [255 255 255 255]]\n",
      "\n",
      " [[255 255 255 255]\n",
      "  [255 255 255 255]\n",
      "  [255 255 255 255]\n",
      "  ...\n",
      "  [255 255 255 255]\n",
      "  [255 255 255 255]\n",
      "  [255 255 255 255]]\n",
      "\n",
      " [[255 255 255 255]\n",
      "  [255 255 255 255]\n",
      "  [255 255 255 255]\n",
      "  ...\n",
      "  [255 255 255 255]\n",
      "  [255 255 255 255]\n",
      "  [255 255 255 255]]\n",
      "\n",
      " ...\n",
      "\n",
      " [[255 255 255 255]\n",
      "  [255 255 255 255]\n",
      "  [255 255 255 255]\n",
      "  ...\n",
      "  [255 255 255 255]\n",
      "  [255 255 255 255]\n",
      "  [255 255 255 255]]\n",
      "\n",
      " [[255 255 255 255]\n",
      "  [255 255 255 255]\n",
      "  [255 255 255 255]\n",
      "  ...\n",
      "  [255 255 255 255]\n",
      "  [255 255 255 255]\n",
      "  [255 255 255 255]]\n",
      "\n",
      " [[255 255 255 255]\n",
      "  [255 255 255 255]\n",
      "  [255 255 255 255]\n",
      "  ...\n",
      "  [255 255 255 255]\n",
      "  [255 255 255 255]\n",
      "  [255 255 255 255]]]\n"
     ]
    },
    {
     "data": {
      "text/plain": [
       "(786, 824, 4)"
      ]
     },
     "execution_count": 27,
     "metadata": {},
     "output_type": "execute_result"
    }
   ],
   "source": [
    "img_np=np.asarray(img)\n",
    "print(img_np)\n",
    "img_np.shape"
   ]
  },
  {
   "cell_type": "code",
   "execution_count": 28,
   "metadata": {},
   "outputs": [
    {
     "name": "stdout",
     "output_type": "stream",
     "text": [
      "(647664, 4)\n"
     ]
    }
   ],
   "source": [
    "pixels=img_np.reshape(img_np.shape[0]*img_np.shape[1],img_np.shape[2])\n",
    "print(pixels.shape)"
   ]
  },
  {
   "cell_type": "code",
   "execution_count": 29,
   "metadata": {},
   "outputs": [
    {
     "data": {
      "text/plain": [
       "KMeans(n_clusters=6)"
      ]
     },
     "execution_count": 29,
     "metadata": {},
     "output_type": "execute_result"
    }
   ],
   "source": [
    "#Model of Kmeans Clustering\n",
    "model=KMeans(n_clusters=6)\n",
    "model.fit(pixels)"
   ]
  },
  {
   "cell_type": "code",
   "execution_count": 30,
   "metadata": {},
   "outputs": [
    {
     "name": "stdout",
     "output_type": "stream",
     "text": [
      "[0 0 0 ... 0 0 0]\n",
      "[[254.67807497 254.69418779 254.70158949 255.        ]\n",
      " [ 26.37397683  83.89475922 119.87647497 255.        ]\n",
      " [  8.45320736   8.32257583   8.32257583 255.        ]\n",
      " [138.18925465 144.32478256 141.21567764 255.        ]\n",
      " [206.1668692  208.71563799 209.71717301 255.        ]\n",
      " [ 78.74331002  85.71216783  86.82648019 255.        ]]\n"
     ]
    }
   ],
   "source": [
    "pixels_centroid=model.labels_\n",
    "cluster_centers=model.cluster_centers_\n",
    "print(pixels_centroid)\n",
    "print(cluster_centers)"
   ]
  },
  {
   "cell_type": "code",
   "execution_count": 33,
   "metadata": {},
   "outputs": [
    {
     "data": {
      "text/plain": [
       "(647664, 4)"
      ]
     },
     "execution_count": 33,
     "metadata": {},
     "output_type": "execute_result"
    }
   ],
   "source": [
    "final=np.zeros((pixels_centroid.shape[0],4))\n",
    "final.shape"
   ]
  },
  {
   "cell_type": "code",
   "execution_count": 34,
   "metadata": {},
   "outputs": [],
   "source": [
    "for cluster_no in range(6):\n",
    "    final[pixels_centroid==cluster_no]=cluster_centers[cluster_no]"
   ]
  },
  {
   "cell_type": "code",
   "execution_count": 35,
   "metadata": {},
   "outputs": [
    {
     "data": {
      "text/plain": [
       "array([[254.67807497, 254.69418779, 254.70158949, 255.        ],\n",
       "       [254.67807497, 254.69418779, 254.70158949, 255.        ],\n",
       "       [254.67807497, 254.69418779, 254.70158949, 255.        ],\n",
       "       ...,\n",
       "       [254.67807497, 254.69418779, 254.70158949, 255.        ],\n",
       "       [254.67807497, 254.69418779, 254.70158949, 255.        ],\n",
       "       [254.67807497, 254.69418779, 254.70158949, 255.        ]])"
      ]
     },
     "execution_count": 35,
     "metadata": {},
     "output_type": "execute_result"
    }
   ],
   "source": [
    "final"
   ]
  },
  {
   "cell_type": "code",
   "execution_count": 37,
   "metadata": {},
   "outputs": [
    {
     "data": {
      "text/plain": [
       "array([[[254.67807497, 254.69418779, 254.70158949, 255.        ],\n",
       "        [254.67807497, 254.69418779, 254.70158949, 255.        ],\n",
       "        [254.67807497, 254.69418779, 254.70158949, 255.        ],\n",
       "        ...,\n",
       "        [254.67807497, 254.69418779, 254.70158949, 255.        ],\n",
       "        [254.67807497, 254.69418779, 254.70158949, 255.        ],\n",
       "        [254.67807497, 254.69418779, 254.70158949, 255.        ]],\n",
       "\n",
       "       [[254.67807497, 254.69418779, 254.70158949, 255.        ],\n",
       "        [254.67807497, 254.69418779, 254.70158949, 255.        ],\n",
       "        [254.67807497, 254.69418779, 254.70158949, 255.        ],\n",
       "        ...,\n",
       "        [254.67807497, 254.69418779, 254.70158949, 255.        ],\n",
       "        [254.67807497, 254.69418779, 254.70158949, 255.        ],\n",
       "        [254.67807497, 254.69418779, 254.70158949, 255.        ]],\n",
       "\n",
       "       [[254.67807497, 254.69418779, 254.70158949, 255.        ],\n",
       "        [254.67807497, 254.69418779, 254.70158949, 255.        ],\n",
       "        [254.67807497, 254.69418779, 254.70158949, 255.        ],\n",
       "        ...,\n",
       "        [254.67807497, 254.69418779, 254.70158949, 255.        ],\n",
       "        [254.67807497, 254.69418779, 254.70158949, 255.        ],\n",
       "        [254.67807497, 254.69418779, 254.70158949, 255.        ]],\n",
       "\n",
       "       ...,\n",
       "\n",
       "       [[254.67807497, 254.69418779, 254.70158949, 255.        ],\n",
       "        [254.67807497, 254.69418779, 254.70158949, 255.        ],\n",
       "        [254.67807497, 254.69418779, 254.70158949, 255.        ],\n",
       "        ...,\n",
       "        [254.67807497, 254.69418779, 254.70158949, 255.        ],\n",
       "        [254.67807497, 254.69418779, 254.70158949, 255.        ],\n",
       "        [254.67807497, 254.69418779, 254.70158949, 255.        ]],\n",
       "\n",
       "       [[254.67807497, 254.69418779, 254.70158949, 255.        ],\n",
       "        [254.67807497, 254.69418779, 254.70158949, 255.        ],\n",
       "        [254.67807497, 254.69418779, 254.70158949, 255.        ],\n",
       "        ...,\n",
       "        [254.67807497, 254.69418779, 254.70158949, 255.        ],\n",
       "        [254.67807497, 254.69418779, 254.70158949, 255.        ],\n",
       "        [254.67807497, 254.69418779, 254.70158949, 255.        ]],\n",
       "\n",
       "       [[254.67807497, 254.69418779, 254.70158949, 255.        ],\n",
       "        [254.67807497, 254.69418779, 254.70158949, 255.        ],\n",
       "        [254.67807497, 254.69418779, 254.70158949, 255.        ],\n",
       "        ...,\n",
       "        [254.67807497, 254.69418779, 254.70158949, 255.        ],\n",
       "        [254.67807497, 254.69418779, 254.70158949, 255.        ],\n",
       "        [254.67807497, 254.69418779, 254.70158949, 255.        ]]])"
      ]
     },
     "execution_count": 37,
     "metadata": {},
     "output_type": "execute_result"
    }
   ],
   "source": [
    "comp_img=final.reshape(img_np.shape[0],img_np.shape[1],4)\n",
    "comp_img"
   ]
  },
  {
   "cell_type": "code",
   "execution_count": 38,
   "metadata": {},
   "outputs": [],
   "source": [
    "comp_img=Image.fromarray(np.uint8(comp_img))"
   ]
  },
  {
   "cell_type": "code",
   "execution_count": 40,
   "metadata": {},
   "outputs": [],
   "source": [
    "comp_img.save('result.png')"
   ]
  },
  {
   "cell_type": "code",
   "execution_count": null,
   "metadata": {},
   "outputs": [],
   "source": []
  }
 ],
 "metadata": {
  "kernelspec": {
   "display_name": "Python 3",
   "language": "python",
   "name": "python3"
  },
  "language_info": {
   "codemirror_mode": {
    "name": "ipython",
    "version": 3
   },
   "file_extension": ".py",
   "mimetype": "text/x-python",
   "name": "python",
   "nbconvert_exporter": "python",
   "pygments_lexer": "ipython3",
   "version": "3.6.3"
  }
 },
 "nbformat": 4,
 "nbformat_minor": 4
}
